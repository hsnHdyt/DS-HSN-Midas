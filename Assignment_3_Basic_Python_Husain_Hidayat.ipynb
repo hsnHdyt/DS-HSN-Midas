{
  "nbformat": 4,
  "nbformat_minor": 0,
  "metadata": {
    "colab": {
      "name": "Assignment 3 - Basic Python - Husain Hidayat.ipynb",
      "provenance": [],
      "toc_visible": true,
      "authorship_tag": "ABX9TyN1qSkmstvxtCwrn/3nzGFW",
      "include_colab_link": true
    },
    "kernelspec": {
      "name": "python3",
      "display_name": "Python 3"
    },
    "language_info": {
      "name": "python"
    }
  },
  "cells": [
    {
      "cell_type": "markdown",
      "metadata": {
        "id": "view-in-github",
        "colab_type": "text"
      },
      "source": [
        "<a href=\"https://colab.research.google.com/github/hsnHdyt/DS-HSN-Midas/blob/main/Assignment_3_Basic_Python_Husain_Hidayat.ipynb\" target=\"_parent\"><img src=\"https://colab.research.google.com/assets/colab-badge.svg\" alt=\"Open In Colab\"/></a>"
      ]
    },
    {
      "cell_type": "markdown",
      "source": [
        "# Basic Python - Basic (50 poin)\n",
        "\n",
        "\n",
        "---\n",
        "\n",
        "\n",
        "\n",
        "> **note:** dirunning dari code `nomor 1` agar function `isInputInt()` di nomor 1 bisa digunakan di nomor 2 - 5.\n",
        "\n",
        "\n",
        "---\n",
        "\n",
        "1. Buatlah program yang meminta user untuk menginputkan nama mereka. Program\n",
        "harus merespon dengan pesan yang menyambut user dengan sapaan “Hi/Hallo”\n",
        "atau apapun, disertai dengan nama user tersebut"
      ],
      "metadata": {
        "id": "7h6UXKoJb5iy"
      }
    },
    {
      "cell_type": "code",
      "source": [
        "nama = input('Input nama anda: ')\n",
        "print('Hi/Hallo', nama, '!')"
      ],
      "metadata": {
        "id": "XCYCclVhb9hr"
      },
      "execution_count": null,
      "outputs": []
    },
    {
      "cell_type": "markdown",
      "source": [
        "2. Buatlah program yang meminta user untuk mengisi panjang dan lebar dari suatu\n",
        "ruangan. Peserta diminta untuk memberikan output dengan dua satuan yang\n",
        "berbeda:\n",
        "*   Luas dalam meter persegi\n",
        "*   Luas dalam hektar\n",
        "\n",
        "\n",
        "\n"
      ],
      "metadata": {
        "id": "XxLVih-RcLoV"
      }
    },
    {
      "cell_type": "code",
      "source": [
        "def isInputInt(message):\n",
        "  while True:\n",
        "    try:\n",
        "       userInput = int(input(message))       \n",
        "    except ValueError:\n",
        "       print('Input bukan bilangan bulat! Silakan diperbaiki.')\n",
        "       continue\n",
        "    else:\n",
        "       return userInput \n",
        "       break \n",
        "\n",
        "def calcAreainMeterSquare(x,y = 0):\n",
        "  print('>> Luas ruangan = ',x*y,'meter persegi')\n",
        "\n",
        "def calcAreainHectare(x,y = 0):\n",
        "  print('>> Luas ruangan = ',x*y/10000,'hectare')\n",
        "\n",
        "panjang = isInputInt('input panjang ruangan (dalam satuan meter):')\n",
        "lebar = isInputInt('input lebar ruangan (dalam satuan meter):')\n",
        "calcAreainMeterSquare(panjang,lebar)\n",
        "calcAreainHectare(panjang,lebar)"
      ],
      "metadata": {
        "colab": {
          "base_uri": "https://localhost:8080/"
        },
        "id": "qnevBAnRcURG",
        "outputId": "b958ee84-5f2f-4a63-ad65-155a2bfe1a82"
      },
      "execution_count": null,
      "outputs": [
        {
          "output_type": "stream",
          "name": "stdout",
          "text": [
            "input panjang ruangan (dalam satuan meter):dua\n",
            "Input bukan bilangan bulat! Silakan diperbaiki.\n",
            "input panjang ruangan (dalam satuan meter):3\n",
            "input lebar ruangan (dalam satuan meter):7\n",
            ">> Luas ruangan =  21 meter persegi\n",
            ">> Luas ruangan =  0.0021 hectare\n"
          ]
        }
      ]
    },
    {
      "cell_type": "markdown",
      "source": [
        "3. Buatlah sebuah program yang dapat menghitung jumlah dari n bilangan pertama\n",
        "dari bilangan natural atau bilangan bulat positif. Misal jika user memberikan input n\n",
        "= 10 maka program harus menghitung jumlah dari 1 + 2+ 3+ … + 10"
      ],
      "metadata": {
        "id": "Fb69QU-Lcd0X"
      }
    },
    {
      "cell_type": "code",
      "source": [
        "n_int = isInputInt('input n bilangan pertama (bilangan bulat):')\n",
        "\n",
        "sum = 0\n",
        "for i in range(n_int):\n",
        "  summing = i+1\n",
        "  sum = sum+summing\n",
        "print('Hasil total penjumlahan',n_int,'bilangan pertama adalah = ',sum)"
      ],
      "metadata": {
        "colab": {
          "base_uri": "https://localhost:8080/"
        },
        "id": "NFEwoewqcgmD",
        "outputId": "af3574d8-3240-48ff-d7cd-1c400f425e51"
      },
      "execution_count": null,
      "outputs": [
        {
          "output_type": "stream",
          "name": "stdout",
          "text": [
            "input n bilangan pertama (bilangan bulat):lima\n",
            "Input bukan bilangan bulat! Silakan diperbaiki.\n",
            "input n bilangan pertama (bilangan bulat):5\n",
            "Hasil total penjumlahan 5 bilangan pertama adalah =  15\n"
          ]
        }
      ]
    },
    {
      "cell_type": "markdown",
      "source": [
        "4. Buatlah program untuk menghitung luas segitiga dengan \n",
        "dua cara:\n",
        "*   Menghitung luas segitiga dengan rumus (alas x tinggi)/2\n",
        "*   Menghitung luas segitiga dengan rumus heron\n",
        "\n",
        "Jangan lupa bahwa program meminta input dari user tergantung rumus apa yang\n",
        "digunakan."
      ],
      "metadata": {
        "id": "dn_bukbnciAd"
      }
    },
    {
      "cell_type": "code",
      "source": [
        "import math\n",
        "\n",
        "def hitungRumusStandar(x,y=0):\n",
        "  print('>> Luas segitiga (menggunakan rumus standar) = ',x*y/2)\n",
        "\n",
        "def hitungRumusHeron(x,y,z=0):\n",
        "  s = (x+y+z)/2\n",
        "  luas_heron = math.sqrt((s*(s-x)*(s-y)*(s-z)))\n",
        "  print('>> Luas segitiga (menggunakan rumus heron) = ',luas_heron)\n",
        "\n",
        "def checkSelectedNbrRumus():\n",
        "  while True:\n",
        "    input_rumus = isInputInt('# Pilih rumus luas segitiga (tekan \"1\" untuk rumus standar atau \"2\" untuk rumus heron) :')\n",
        "    \n",
        "    #rumus standar\n",
        "    if(input_rumus == 1):\n",
        "      input_alas = isInputInt('input alas: ')\n",
        "      input_tinggi = isInputInt('input tinggi: ')\n",
        "      hitungRumusStandar(input_alas,input_tinggi)\n",
        "      break\n",
        "\n",
        "    #rumus heron\n",
        "    elif(input_rumus == 2):\n",
        "      input_sisi1 = isInputInt('input panjang sisi pertama segitiga: ')\n",
        "      input_sisi2 = isInputInt('input panjang sisi kedua segitiga: ')\n",
        "      input_sisi3 = isInputInt('input panjang sisi ketiga segitiga: ')\n",
        "      hitungRumusHeron(input_sisi1, input_sisi2, input_sisi3)\n",
        "      break\n",
        "\n",
        "    else:\n",
        "      print('input salah, pilihan yang valid hanya \"1\" atau \"2\" saja')\n",
        "\n",
        "checkSelectedNbrRumus()"
      ],
      "metadata": {
        "colab": {
          "base_uri": "https://localhost:8080/"
        },
        "id": "hTohhzuHcoS3",
        "outputId": "9e457bd6-8111-49a3-a796-b2e7294d629f"
      },
      "execution_count": null,
      "outputs": [
        {
          "output_type": "stream",
          "name": "stdout",
          "text": [
            "# Pilih rumus luas segitiga (tekan \"1\" untuk rumus standar atau \"2\" untuk rumus heron) :satu\n",
            "Input bukan bilangan bulat! Silakan diperbaiki.\n",
            "# Pilih rumus luas segitiga (tekan \"1\" untuk rumus standar atau \"2\" untuk rumus heron) :1\n",
            "input alas: 6\n",
            "input tinggi: 5\n",
            ">> Luas segitiga (menggunakan rumus standar) =  15.0\n"
          ]
        }
      ]
    },
    {
      "cell_type": "markdown",
      "source": [
        "5. Buatlah program yang membaca input magnitude gempa dari user dan program\n",
        "menunjukkan informasi deskripsi dari gempa tersebut. Contoh: Jika user memberi\n",
        "input 5.5 maka output dari program adalah “*Moderate earthquake*\""
      ],
      "metadata": {
        "id": "aea-Bk66coyu"
      }
    },
    {
      "cell_type": "code",
      "source": [
        "def isInputFloat(message):\n",
        "  while True:\n",
        "    try:\n",
        "       userInput = float(input(message))       \n",
        "    except ValueError:\n",
        "       print('Input bukan bilangan! Silakan diperbaiki.')\n",
        "       continue\n",
        "    else:\n",
        "       return userInput \n",
        "       break\n",
        "\n",
        "def desc_magnitudeEarthquake():\n",
        "  while True:\n",
        "    magnitude = isInputFloat('# input magnitude gempa (skala richter): ')\n",
        "    \n",
        "    if(magnitude < float(2)):\n",
        "      print('>> Micro Earthquake')\n",
        "      break\n",
        "    elif((magnitude >= float(2)) & (magnitude < float(4))):\n",
        "      print('>> Minor Earthquake')\n",
        "      break\n",
        "    elif((magnitude >= 4) & (magnitude < 5)):\n",
        "      print('>> Light Earthquake')\n",
        "      break\n",
        "    elif((magnitude >= 5) & (magnitude < 6)):\n",
        "      print('>> Moderate Earthquake')\n",
        "      break\n",
        "    elif((magnitude >= 6) & (magnitude < 7)):\n",
        "      print('>> Strong Earthquake')\n",
        "      break\n",
        "    elif((magnitude >= 7) & (magnitude < 8)):\n",
        "      print('>> Major Earthquake')\n",
        "      break\n",
        "    elif((magnitude >= 8) & (magnitude < 9)):\n",
        "      print('>> Great Earthquake - Wide spread damage in large areas')\n",
        "      break\n",
        "    elif((magnitude >= 9) & (magnitude < 10)):\n",
        "      print('>> Great Earthquake - Severe damage to most buildings')\n",
        "      break\n",
        "    else:\n",
        "      print('>> Massive Earthquake - Never recorded')\n",
        "      break\n",
        "\n",
        "desc_magnitudeEarthquake()"
      ],
      "metadata": {
        "colab": {
          "base_uri": "https://localhost:8080/"
        },
        "id": "XT9ZJ3YVcvI6",
        "outputId": "4a72c2a7-45e7-4649-9d08-2cc529986f28"
      },
      "execution_count": null,
      "outputs": [
        {
          "output_type": "stream",
          "name": "stdout",
          "text": [
            "# input magnitude gempa (skala richter): 5.5\n",
            ">> Moderate Earthquake\n"
          ]
        }
      ]
    },
    {
      "cell_type": "markdown",
      "source": [
        "\n",
        "\n",
        "---\n",
        "\n"
      ],
      "metadata": {
        "id": "t6pxMwGvcxye"
      }
    },
    {
      "cell_type": "markdown",
      "source": [
        "# Basic Python - Advanced (50 poin)\n",
        "\n",
        "1.   Visualisasikan data yang diberikan menggunakan *matplotlib*"
      ],
      "metadata": {
        "id": "dhic74xXcw5T"
      }
    },
    {
      "cell_type": "code",
      "source": [
        "import pandas as pd \n",
        "import numpy as np\n",
        "import matplotlib.pyplot as plt"
      ],
      "metadata": {
        "id": "VgZB8PUZg-Tt"
      },
      "execution_count": 2,
      "outputs": []
    },
    {
      "cell_type": "code",
      "source": [
        "df = pd.read_csv('https://raw.githubusercontent.com/hadimaster65555/dataset_for_teaching/main/dataset/linear_regression_simulation_data/linear-regression.csv', delimiter=',',header = None)\n",
        "df"
      ],
      "metadata": {
        "colab": {
          "base_uri": "https://localhost:8080/",
          "height": 424
        },
        "id": "bNB2d41CJMi4",
        "outputId": "db214ff3-7c21-4621-d5b1-74c65e8681ef"
      },
      "execution_count": 3,
      "outputs": [
        {
          "output_type": "execute_result",
          "data": {
            "text/plain": [
              "          0        1\n",
              "0   0.58705  5.79555\n",
              "1  -0.15098  3.53372\n",
              "2  -0.24805  3.22805\n",
              "3  -0.36056  2.87947\n",
              "4   0.09375  4.40297\n",
              "..      ...      ...\n",
              "95  0.57697  5.62490\n",
              "96  0.54242  5.50030\n",
              "97 -0.02820  3.96986\n",
              "98 -0.52083  2.46482\n",
              "99 -0.63998  2.24709\n",
              "\n",
              "[100 rows x 2 columns]"
            ],
            "text/html": [
              "\n",
              "  <div id=\"df-b5e68574-d87e-4552-9fd9-d1da43c7ff6e\">\n",
              "    <div class=\"colab-df-container\">\n",
              "      <div>\n",
              "<style scoped>\n",
              "    .dataframe tbody tr th:only-of-type {\n",
              "        vertical-align: middle;\n",
              "    }\n",
              "\n",
              "    .dataframe tbody tr th {\n",
              "        vertical-align: top;\n",
              "    }\n",
              "\n",
              "    .dataframe thead th {\n",
              "        text-align: right;\n",
              "    }\n",
              "</style>\n",
              "<table border=\"1\" class=\"dataframe\">\n",
              "  <thead>\n",
              "    <tr style=\"text-align: right;\">\n",
              "      <th></th>\n",
              "      <th>0</th>\n",
              "      <th>1</th>\n",
              "    </tr>\n",
              "  </thead>\n",
              "  <tbody>\n",
              "    <tr>\n",
              "      <th>0</th>\n",
              "      <td>0.58705</td>\n",
              "      <td>5.79555</td>\n",
              "    </tr>\n",
              "    <tr>\n",
              "      <th>1</th>\n",
              "      <td>-0.15098</td>\n",
              "      <td>3.53372</td>\n",
              "    </tr>\n",
              "    <tr>\n",
              "      <th>2</th>\n",
              "      <td>-0.24805</td>\n",
              "      <td>3.22805</td>\n",
              "    </tr>\n",
              "    <tr>\n",
              "      <th>3</th>\n",
              "      <td>-0.36056</td>\n",
              "      <td>2.87947</td>\n",
              "    </tr>\n",
              "    <tr>\n",
              "      <th>4</th>\n",
              "      <td>0.09375</td>\n",
              "      <td>4.40297</td>\n",
              "    </tr>\n",
              "    <tr>\n",
              "      <th>...</th>\n",
              "      <td>...</td>\n",
              "      <td>...</td>\n",
              "    </tr>\n",
              "    <tr>\n",
              "      <th>95</th>\n",
              "      <td>0.57697</td>\n",
              "      <td>5.62490</td>\n",
              "    </tr>\n",
              "    <tr>\n",
              "      <th>96</th>\n",
              "      <td>0.54242</td>\n",
              "      <td>5.50030</td>\n",
              "    </tr>\n",
              "    <tr>\n",
              "      <th>97</th>\n",
              "      <td>-0.02820</td>\n",
              "      <td>3.96986</td>\n",
              "    </tr>\n",
              "    <tr>\n",
              "      <th>98</th>\n",
              "      <td>-0.52083</td>\n",
              "      <td>2.46482</td>\n",
              "    </tr>\n",
              "    <tr>\n",
              "      <th>99</th>\n",
              "      <td>-0.63998</td>\n",
              "      <td>2.24709</td>\n",
              "    </tr>\n",
              "  </tbody>\n",
              "</table>\n",
              "<p>100 rows × 2 columns</p>\n",
              "</div>\n",
              "      <button class=\"colab-df-convert\" onclick=\"convertToInteractive('df-b5e68574-d87e-4552-9fd9-d1da43c7ff6e')\"\n",
              "              title=\"Convert this dataframe to an interactive table.\"\n",
              "              style=\"display:none;\">\n",
              "        \n",
              "  <svg xmlns=\"http://www.w3.org/2000/svg\" height=\"24px\"viewBox=\"0 0 24 24\"\n",
              "       width=\"24px\">\n",
              "    <path d=\"M0 0h24v24H0V0z\" fill=\"none\"/>\n",
              "    <path d=\"M18.56 5.44l.94 2.06.94-2.06 2.06-.94-2.06-.94-.94-2.06-.94 2.06-2.06.94zm-11 1L8.5 8.5l.94-2.06 2.06-.94-2.06-.94L8.5 2.5l-.94 2.06-2.06.94zm10 10l.94 2.06.94-2.06 2.06-.94-2.06-.94-.94-2.06-.94 2.06-2.06.94z\"/><path d=\"M17.41 7.96l-1.37-1.37c-.4-.4-.92-.59-1.43-.59-.52 0-1.04.2-1.43.59L10.3 9.45l-7.72 7.72c-.78.78-.78 2.05 0 2.83L4 21.41c.39.39.9.59 1.41.59.51 0 1.02-.2 1.41-.59l7.78-7.78 2.81-2.81c.8-.78.8-2.07 0-2.86zM5.41 20L4 18.59l7.72-7.72 1.47 1.35L5.41 20z\"/>\n",
              "  </svg>\n",
              "      </button>\n",
              "      \n",
              "  <style>\n",
              "    .colab-df-container {\n",
              "      display:flex;\n",
              "      flex-wrap:wrap;\n",
              "      gap: 12px;\n",
              "    }\n",
              "\n",
              "    .colab-df-convert {\n",
              "      background-color: #E8F0FE;\n",
              "      border: none;\n",
              "      border-radius: 50%;\n",
              "      cursor: pointer;\n",
              "      display: none;\n",
              "      fill: #1967D2;\n",
              "      height: 32px;\n",
              "      padding: 0 0 0 0;\n",
              "      width: 32px;\n",
              "    }\n",
              "\n",
              "    .colab-df-convert:hover {\n",
              "      background-color: #E2EBFA;\n",
              "      box-shadow: 0px 1px 2px rgba(60, 64, 67, 0.3), 0px 1px 3px 1px rgba(60, 64, 67, 0.15);\n",
              "      fill: #174EA6;\n",
              "    }\n",
              "\n",
              "    [theme=dark] .colab-df-convert {\n",
              "      background-color: #3B4455;\n",
              "      fill: #D2E3FC;\n",
              "    }\n",
              "\n",
              "    [theme=dark] .colab-df-convert:hover {\n",
              "      background-color: #434B5C;\n",
              "      box-shadow: 0px 1px 3px 1px rgba(0, 0, 0, 0.15);\n",
              "      filter: drop-shadow(0px 1px 2px rgba(0, 0, 0, 0.3));\n",
              "      fill: #FFFFFF;\n",
              "    }\n",
              "  </style>\n",
              "\n",
              "      <script>\n",
              "        const buttonEl =\n",
              "          document.querySelector('#df-b5e68574-d87e-4552-9fd9-d1da43c7ff6e button.colab-df-convert');\n",
              "        buttonEl.style.display =\n",
              "          google.colab.kernel.accessAllowed ? 'block' : 'none';\n",
              "\n",
              "        async function convertToInteractive(key) {\n",
              "          const element = document.querySelector('#df-b5e68574-d87e-4552-9fd9-d1da43c7ff6e');\n",
              "          const dataTable =\n",
              "            await google.colab.kernel.invokeFunction('convertToInteractive',\n",
              "                                                     [key], {});\n",
              "          if (!dataTable) return;\n",
              "\n",
              "          const docLinkHtml = 'Like what you see? Visit the ' +\n",
              "            '<a target=\"_blank\" href=https://colab.research.google.com/notebooks/data_table.ipynb>data table notebook</a>'\n",
              "            + ' to learn more about interactive tables.';\n",
              "          element.innerHTML = '';\n",
              "          dataTable['output_type'] = 'display_data';\n",
              "          await google.colab.output.renderOutput(dataTable, element);\n",
              "          const docLink = document.createElement('div');\n",
              "          docLink.innerHTML = docLinkHtml;\n",
              "          element.appendChild(docLink);\n",
              "        }\n",
              "      </script>\n",
              "    </div>\n",
              "  </div>\n",
              "  "
            ]
          },
          "metadata": {},
          "execution_count": 3
        }
      ]
    },
    {
      "cell_type": "code",
      "source": [
        "#rename column names\n",
        "df.columns = ['x', 'y']\n",
        "list(df)"
      ],
      "metadata": {
        "colab": {
          "base_uri": "https://localhost:8080/"
        },
        "id": "sbVhOpzbO-O0",
        "outputId": "de814a23-a31e-46ef-b0cd-433def5075cd"
      },
      "execution_count": 4,
      "outputs": [
        {
          "output_type": "execute_result",
          "data": {
            "text/plain": [
              "['x', 'y']"
            ]
          },
          "metadata": {},
          "execution_count": 4
        }
      ]
    },
    {
      "cell_type": "code",
      "source": [
        "#prepare object\n",
        "x_data = df['x']\n",
        "y_data = df['y']\n",
        "\n",
        "#create plot\n",
        "plt.plot(x_data, y_data,'o', label = 'random data')\n",
        "plt.legend()\n",
        "plt.show()"
      ],
      "metadata": {
        "colab": {
          "base_uri": "https://localhost:8080/",
          "height": 265
        },
        "id": "iNrYK22zPe37",
        "outputId": "f61d45ce-8ef1-4295-9b30-e6089a012899"
      },
      "execution_count": 67,
      "outputs": [
        {
          "output_type": "display_data",
          "data": {
            "text/plain": [
              "<Figure size 432x288 with 1 Axes>"
            ],
            "image/png": "[encoded data removed]"
          },
          "metadata": {
            "needs_background": "light"
          }
        }
      ]
    },
    {
      "cell_type": "markdown",
      "source": [
        "2.   Buatlah program untuk menghitung regresi linier menggunakan metode invers matriks: \n",
        "\n",
        "𝓧 = (A$^T$ A)$^{-1}$ A$^T$ 𝒚\n",
        "\n",
        "dimana:\n",
        "* 𝑥 adalah koefisien dari model regresi yang ingin dicari\n",
        "* 𝐴 adalah matriks data\n",
        "* A$^T$ adalah transpose dari 𝐴\n",
        "* 𝐴$^{−1}$ adalah invers dari matriks 𝐴\n",
        "* 𝑦 adalah variabel target"
      ],
      "metadata": {
        "id": "3-N0WcVuhCeC"
      }
    },
    {
      "cell_type": "code",
      "source": [
        "#define A\n",
        "A = np.array([x_data, np.ones(100)]).T\n",
        "\n",
        "#set y_data to array\n",
        "y_array = np.array([y_data]).T\n",
        "\n",
        "_inverse1 = A.T.dot(A)\n",
        "inverse1 = np.linalg.inv(_inverse1)\n",
        "\n",
        "# hasil koefisien model\n",
        "x_coef = inverse1.dot(A.T).dot(y_array)\n",
        "x_coef"
      ],
      "metadata": {
        "id": "0Dscga8AhEnW",
        "colab": {
          "base_uri": "https://localhost:8080/"
        },
        "outputId": "06f51362-67d1-47b1-b6a4-ea89f2bb470b"
      },
      "execution_count": 103,
      "outputs": [
        {
          "output_type": "execute_result",
          "data": {
            "text/plain": [
              "array([[2.98060191],\n",
              "       [3.99187633]])"
            ]
          },
          "metadata": {},
          "execution_count": 103
        }
      ]
    },
    {
      "cell_type": "code",
      "source": [
        "# buat ngecek size perkalian vektornya\n",
        "print(x_coef.shape)\n",
        "print('A.shape: ',A.shape)\n",
        "print('A.Trasnpose.shape: ',A.T.shape)\n",
        "print('# dot product 1.shape  = ',A.T.dot(A).shape)\n",
        "print('y_array.shape: ',y_array.shape)\n",
        "print('_inverse1.shape: ',_inverse1.shape)\n",
        "print('_inverse1 = ', _inverse1)\n",
        "print('inverse1.shape: ',inverse1.shape)\n",
        "print('---------------')\n",
        "print('A.size: ',A.size)\n",
        "print('y_array.size: ',y_array.size)\n",
        "print('inverse1.size: ',inverse1.size)"
      ],
      "metadata": {
        "colab": {
          "base_uri": "https://localhost:8080/"
        },
        "id": "iL6EDwlodDRX",
        "outputId": "ea05968e-5a18-4904-f9d9-9ab45d9809b8"
      },
      "execution_count": 99,
      "outputs": [
        {
          "output_type": "stream",
          "name": "stdout",
          "text": [
            "(1, 1)\n",
            "A.shape:  (100, 1)\n",
            "A.Trasnpose.shape:  (1, 100)\n",
            "# dot product 1.shape  =  (1, 1)\n",
            "y_array.shape:  (100, 1)\n",
            "_inverse1.shape:  (1, 1)\n",
            "_inverse1 =  [[14.99537673]]\n",
            "inverse1.shape:  (1, 1)\n",
            "---------------\n",
            "A.size:  100\n",
            "y_array.size:  100\n",
            "inverse1.size:  1\n"
          ]
        }
      ]
    },
    {
      "cell_type": "code",
      "source": [
        "# hitung y prediksi (y_hat)\n",
        "#y_hat = w[0]*x_array + w[1]  # regression line\n",
        "#x_coef[1]\n",
        "\n",
        "x_array = np.array(x_data)\n",
        "y_pred = x_coef[0]*x_array + x_coef[1]\n",
        "\n",
        "plt.plot(x_array, y_pred, 'r-',label = 'fitted line')\n",
        "plt.plot(x_array, y_array, 'o',label = 'data')\n",
        "plt.legend()\n",
        "plt.show()"
      ],
      "metadata": {
        "colab": {
          "base_uri": "https://localhost:8080/",
          "height": 265
        },
        "id": "H6Bt69_3sdhi",
        "outputId": "b2adaf4b-3bca-406f-b899-5a24e5de211b"
      },
      "execution_count": 106,
      "outputs": [
        {
          "output_type": "display_data",
          "data": {
            "text/plain": [
              "<Figure size 432x288 with 1 Axes>"
            ],
            "image/png": "[encoded data removed]"
          },
          "metadata": {
            "needs_background": "light"
          }
        }
      ]
    },
    {
      "cell_type": "markdown",
      "source": [
        "3.   Buatlah program untuk menghitung regresi linier menggunakan method ***linalg.lstsq*** dari ***numpys***"
      ],
      "metadata": {
        "id": "Q1yf9txThFUm"
      }
    },
    {
      "cell_type": "code",
      "source": [
        "#set x axis to array\n",
        "x_array = np.array(x_data)\n",
        "\n",
        "# slope + 1 row Ones\n",
        "A = np.array([x_array, np.ones(100)])\n",
        "\n",
        "#set x axis to array\n",
        "y_array = np.array(y_data)\n",
        "\n",
        "#get constant and slope for linear equation\n",
        "w = np.linalg.lstsq(A.T, y_array, rcond=None)[0]\n",
        "print(w)"
      ],
      "metadata": {
        "colab": {
          "base_uri": "https://localhost:8080/"
        },
        "id": "m1M2-A8Zfy6-",
        "outputId": "5120bc16-5765-4718-9ecb-1552b97ad3b9"
      },
      "execution_count": 6,
      "outputs": [
        {
          "output_type": "stream",
          "name": "stdout",
          "text": [
            "[2.98060191 3.99187633]\n"
          ]
        }
      ]
    },
    {
      "cell_type": "code",
      "source": [
        "y_hat = w[0]*x_array + w[1]  # regression line\n",
        "plt.plot(x_array, y_hat, 'r-',label = 'fitted line')\n",
        "plt.plot(x_array, y_array, 'o',label = 'data')\n",
        "plt.legend()\n",
        "plt.show()"
      ],
      "metadata": {
        "colab": {
          "base_uri": "https://localhost:8080/",
          "height": 265
        },
        "id": "Dvx3jgHaZy6W",
        "outputId": "b248445f-4386-4e91-b876-37f86008f3bf"
      },
      "execution_count": 7,
      "outputs": [
        {
          "output_type": "display_data",
          "data": {
            "text/plain": [
              "<Figure size 432x288 with 1 Axes>"
            ],
            "image/png": "[encoded data removed]"
          },
          "metadata": {
            "needs_background": "light"
          }
        }
      ]
    }
  ]
}